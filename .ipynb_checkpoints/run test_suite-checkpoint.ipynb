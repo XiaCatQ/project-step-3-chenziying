{
 "cells": [
  {
   "cell_type": "code",
   "execution_count": 4,
   "id": "8c3a6ea5",
   "metadata": {},
   "outputs": [
    {
     "name": "stderr",
     "output_type": "stream",
     "text": [
      "........\n",
      "----------------------------------------------------------------------\n",
      "Ran 8 tests in 0.821s\n",
      "\n",
      "OK\n"
     ]
    },
    {
     "name": "stdout",
     "output_type": "stream",
     "text": [
      "SetupClass\n",
      "Set up\n",
      "Tear Down\n",
      "Set up\n",
      "Tear Down\n",
      "TearDownClass\n",
      "SetupClass\n",
      "Set up\n",
      "All fields required!\n",
      "All fields required!\n",
      "Account Already Exists!\n",
      "Account Already Exists!\n",
      "Tear Down\n",
      "Set up\n",
      "Please check your spell of name!\n",
      "Validation Pass!\n",
      "Validation Pass!\n",
      "Please check your spell of name!\n",
      "Tear Down\n",
      "TearDownClass\n",
      "<unittest.runner.TextTestResult run=8 errors=0 failures=0>\n"
     ]
    }
   ],
   "source": [
    "import unittest\n",
    "from test_User import *\n",
    "from test_calculation import *\n",
    "from test_bankingUI import *\n",
    "from test_bankingDS import *\n",
    "\n",
    "\n",
    "def my_suite():\n",
    "    suite = unittest.TestSuite()\n",
    "    result = unittest.TestResult()\n",
    "    suite.addTest(unittest.makeSuite(test_User))\n",
    "    suite.addTest(unittest.makeSuite(test_calculation))\n",
    "    suite.addTest(unittest.makeSuite( test_bankingUI))\n",
    "    suite.addTest(unittest.makeSuite(test_bankingDS))\n",
    "    runner = unittest.TextTestRunner()\n",
    "    print(runner.run(suite))\n",
    "\n",
    "my_suite()\n",
    "\n"
   ]
  },
  {
   "cell_type": "code",
   "execution_count": 13,
   "id": "b1d17a8b",
   "metadata": {},
   "outputs": [
    {
     "name": "stderr",
     "output_type": "stream",
     "text": [
      "test_newUser (__main__.test_User) ... ok\n",
      "test_user (__main__.test_User) ... ok\n",
      "\n",
      "----------------------------------------------------------------------\n",
      "Ran 2 tests in 0.003s\n",
      "\n",
      "OK\n"
     ]
    },
    {
     "data": {
      "text/plain": [
       "<unittest.main.TestProgram at 0x24794957970>"
      ]
     },
     "execution_count": 13,
     "metadata": {},
     "output_type": "execute_result"
    }
   ],
   "source": [
    "def validate_information(self):\n",
    "    try:\n",
    "        self.information\n",
    "    except ValueError:\n",
    "        print('Bad IPv4 address.')\n",
    "        raise\n",
    "        \n",
    "import unittest \n",
    "from BankAccountSystem.Structure import User as U\n",
    "from BankAccountSystem.Structure import calculation as cal\n",
    "\n",
    "class test_User(unittest.TestCase): # test class \n",
    "\n",
    "    def setUp(self):\n",
    "        self.user1 = U.User('Sherry', 10000)\n",
    "        self.user2 = U.User('Yuki', 11111)\n",
    "        self.user3 = U.User('Nyx', 22222)\n",
    "        self.user4 = U.User('Shveta', 33333)\n",
    "        self.newuser1 = U.newUser('Sherry', 10000, 10)\n",
    "        self.newuser2 = U.newUser('Yuki', 11111, 20)\n",
    "        self.newuser3 = U.newUser('Nyx', 22222, 30)\n",
    "        self.newuser4 = U.newUser('Shveta', 33333, 40)\n",
    "\n",
    "\n",
    "    def test_user(self):\n",
    "        self.assertIsInstance(self.user1 , U.User)\n",
    "        self.assertIsInstance(self.user2 , U.User)\n",
    "        self.assertIsInstance(self.user3 , U.User)\n",
    "        self.assertIsInstance(self.user4 , U.User)\n",
    "\n",
    "    def test_newUser(self):\n",
    "        self.assertIsInstance(self.newuser1 , U.newUser)\n",
    "        self.assertIsInstance(self.newuser2 , U.newUser)\n",
    "        self.assertIsInstance(self.newuser3 , U.newUser)\n",
    "        self.assertIsInstance(self.newuser4 , U.newUser)\n",
    "    \n",
    "    # test information method for newUser\n",
    "    def validate_information(self):\n",
    "        try:\n",
    "            self.newuser1.information(20221225)\n",
    "             \n",
    "        except:\n",
    "            print('Record Fails')\n",
    "            raise\n",
    "\n",
    "    \n",
    "unittest.main(argv=[''], verbosity=2, exit=False)\n"
   ]
  },
  {
   "cell_type": "code",
   "execution_count": 10,
   "id": "64c1c808",
   "metadata": {},
   "outputs": [],
   "source": [
    "newuser1 = U.newUser('Sherry', 10000, 10)\n",
    "validate_information(newuser1)"
   ]
  },
  {
   "cell_type": "code",
   "execution_count": null,
   "id": "7dbfabe5",
   "metadata": {},
   "outputs": [],
   "source": []
  },
  {
   "cell_type": "code",
   "execution_count": null,
   "id": "00444282",
   "metadata": {},
   "outputs": [],
   "source": []
  }
 ],
 "metadata": {
  "kernelspec": {
   "display_name": "Python 3 (ipykernel)",
   "language": "python",
   "name": "python3"
  },
  "language_info": {
   "codemirror_mode": {
    "name": "ipython",
    "version": 3
   },
   "file_extension": ".py",
   "mimetype": "text/x-python",
   "name": "python",
   "nbconvert_exporter": "python",
   "pygments_lexer": "ipython3",
   "version": "3.9.12"
  }
 },
 "nbformat": 4,
 "nbformat_minor": 5
}
