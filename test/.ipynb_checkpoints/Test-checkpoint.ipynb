{
 "cells": [
  {
   "cell_type": "code",
   "execution_count": 1,
   "id": "34c4df7b",
   "metadata": {},
   "outputs": [],
   "source": [
    "import unittest \n",
    "import sys\n",
    "sys.path.append('C:\\\\Users\\\\sophiechen\\\\2022MDS\\\\Block 3\\\\Data-533\\\\project\\\\step2\\\\DATA533-testing\\\\')\n",
    "from BankAccountSystem.Structure import User as U\n",
    "from BankAccountSystem.Structure import calculation as cal"
   ]
  },
  {
   "cell_type": "code",
   "execution_count": 2,
   "id": "653e0816",
   "metadata": {},
   "outputs": [
    {
     "name": "stderr",
     "output_type": "stream",
     "text": [
      "test_newUser (__main__.test_User) ... ok\n",
      "test_user (__main__.test_User) ... ok\n",
      "\n",
      "----------------------------------------------------------------------\n",
      "Ran 2 tests in 0.007s\n",
      "\n",
      "OK\n"
     ]
    },
    {
     "data": {
      "text/plain": [
       "<unittest.main.TestProgram at 0x1d421d8e880>"
      ]
     },
     "execution_count": 2,
     "metadata": {},
     "output_type": "execute_result"
    }
   ],
   "source": [
    "class test_User(unittest.TestCase): # test class \n",
    "\n",
    "    def setUp(self):\n",
    "        self.user1 = U.User('Sherry', 10000)\n",
    "        self.user2 = U.User('Yuki', 11111)\n",
    "        self.user3 = U.User('Nyx', 22222)\n",
    "        self.user4 = U.User('Shveta', 33333)\n",
    "        self.newuser1 = U.newUser('Sherry', 10000, 10)\n",
    "        self.newuser2 = U.newUser('Yuki', 11111, 20)\n",
    "        self.newuser3 = U.newUser('Nyx', 22222, 30)\n",
    "        self.newuser4 = U.newUser('Shveta', 33333, 40)\n",
    "\n",
    "\n",
    "    def test_user(self):\n",
    "        self.assertIsInstance(self.user1 , U.User)\n",
    "        self.assertIsInstance(self.user2 , U.User)\n",
    "        self.assertIsInstance(self.user3 , U.User)\n",
    "        self.assertIsInstance(self.user4 , U.User)\n",
    "\n",
    "    def test_newUser(self):\n",
    "        self.assertIsInstance(self.newuser1 , U.newUser)\n",
    "        self.assertIsInstance(self.newuser2 , U.newUser)\n",
    "        self.assertIsInstance(self.newuser3 , U.newUser)\n",
    "        self.assertIsInstance(self.newuser4 , U.newUser)\n",
    "\n",
    "unittest.main(argv=[''], verbosity=2, exit=False)\n"
   ]
  },
  {
   "cell_type": "code",
   "execution_count": 3,
   "id": "791d5fc3",
   "metadata": {},
   "outputs": [
    {
     "name": "stderr",
     "output_type": "stream",
     "text": [
      "test_newUser (__main__.test_User) ... ok\n",
      "test_user (__main__.test_User) ... ok\n",
      "test_interest (__main__.test_calculation) ... "
     ]
    },
    {
     "name": "stdout",
     "output_type": "stream",
     "text": [
      "SetupClass\n",
      "Set up\n"
     ]
    },
    {
     "name": "stderr",
     "output_type": "stream",
     "text": [
      "ok\n",
      "test_service (__main__.test_calculation) ... ok\n",
      "\n",
      "----------------------------------------------------------------------\n",
      "Ran 4 tests in 0.880s\n",
      "\n",
      "OK\n"
     ]
    },
    {
     "name": "stdout",
     "output_type": "stream",
     "text": [
      "Tear Down\n",
      "Set up\n",
      "Tear Down\n",
      "TearDownClass\n"
     ]
    },
    {
     "data": {
      "text/plain": [
       "<unittest.main.TestProgram at 0x1d421a8c400>"
      ]
     },
     "execution_count": 3,
     "metadata": {},
     "output_type": "execute_result"
    }
   ],
   "source": [
    "class test_calculation(unittest.TestCase): # test class\n",
    "    def setUp(self):\n",
    "        print('Set up')\n",
    "\n",
    "    def tearDown(self):\n",
    "        print('Tear Down')\n",
    "\n",
    "    @classmethod\n",
    "    def setUpClass(cls):\n",
    "        print('SetupClass')\n",
    "\n",
    "    @classmethod\n",
    "    def tearDownClass(cls):\n",
    "        print('TearDownClass')\n",
    "\n",
    "    def test_interest(self):\n",
    "        self.assertEqual(round(cal.interest(1), 5), 0.0001)\n",
    "        self.assertEqual(round(cal.interest(2), 5), 0.0002)\n",
    "        self.assertEqual(round(cal.interest(3), 5), 0.0003)\n",
    "        self.assertEqual(round(cal.interest(4), 5), 0.0004)\n",
    "\n",
    "    def test_service(self):\n",
    "        self.assertEqual(cal.service(100), 103)\n",
    "        self.assertEqual(cal.service(200), 203)\n",
    "        self.assertEqual(cal.service(300), 303)\n",
    "        self.assertEqual(cal.service(400), 403)\n",
    "\n",
    "unittest.main(argv=[''], verbosity=2, exit=False)"
   ]
  },
  {
   "cell_type": "code",
   "execution_count": 4,
   "id": "43a26277",
   "metadata": {},
   "outputs": [
    {
     "name": "stderr",
     "output_type": "stream",
     "text": [
      "test_newUser (__main__.test_User) ... ok\n",
      "test_user (__main__.test_User) ... ok\n",
      "test_interest (__main__.test_calculation) ... "
     ]
    },
    {
     "name": "stdout",
     "output_type": "stream",
     "text": [
      "SetupClass\n",
      "Set up\n"
     ]
    },
    {
     "name": "stderr",
     "output_type": "stream",
     "text": [
      "ok\n",
      "test_service (__main__.test_calculation) ... ok\n",
      "\n",
      "----------------------------------------------------------------------\n",
      "Ran 4 tests in 0.800s\n",
      "\n",
      "OK\n",
      "test_newUser (__main__.test_User) ... ok\n",
      "test_user (__main__.test_User) ... ok\n",
      "test_interest (__main__.test_calculation) ... "
     ]
    },
    {
     "name": "stdout",
     "output_type": "stream",
     "text": [
      "Tear Down\n",
      "Set up\n",
      "Tear Down\n",
      "TearDownClass\n",
      "SetupClass\n",
      "Set up\n"
     ]
    },
    {
     "name": "stderr",
     "output_type": "stream",
     "text": [
      "ok\n",
      "test_service (__main__.test_calculation) ... ok\n",
      "\n",
      "----------------------------------------------------------------------\n",
      "Ran 4 tests in 0.791s\n",
      "\n",
      "OK\n",
      "test_newUser (__main__.test_User) ... ok\n",
      "test_user (__main__.test_User) ... ok\n",
      "test_interest (__main__.test_calculation) ... "
     ]
    },
    {
     "name": "stdout",
     "output_type": "stream",
     "text": [
      "Tear Down\n",
      "Set up\n",
      "Tear Down\n",
      "TearDownClass\n",
      "SetupClass\n",
      "Set up\n"
     ]
    },
    {
     "name": "stderr",
     "output_type": "stream",
     "text": [
      "ok\n",
      "test_service (__main__.test_calculation) ... ok\n",
      "\n",
      "----------------------------------------------------------------------\n",
      "Ran 4 tests in 0.777s\n",
      "\n",
      "OK\n",
      "test_newUser (__main__.test_User) ... ok\n",
      "test_user (__main__.test_User) ... ok\n",
      "test_interest (__main__.test_calculation) ... "
     ]
    },
    {
     "name": "stdout",
     "output_type": "stream",
     "text": [
      "Tear Down\n",
      "Set up\n",
      "Tear Down\n",
      "TearDownClass\n",
      "SetupClass\n",
      "Set up\n"
     ]
    },
    {
     "name": "stderr",
     "output_type": "stream",
     "text": [
      "ok\n",
      "test_service (__main__.test_calculation) ... ok\n",
      "\n",
      "----------------------------------------------------------------------\n",
      "Ran 4 tests in 0.785s\n",
      "\n",
      "OK\n",
      ".."
     ]
    },
    {
     "name": "stdout",
     "output_type": "stream",
     "text": [
      "Tear Down\n",
      "Set up\n",
      "Tear Down\n",
      "TearDownClass\n",
      "SetupClass\n",
      "Set up\n"
     ]
    },
    {
     "name": "stderr",
     "output_type": "stream",
     "text": [
      "..EEE..\n",
      "======================================================================\n",
      "ERROR: test_finish_signup (Testing.test_bankingUI.TestbankingUI)\n",
      "----------------------------------------------------------------------\n",
      "Traceback (most recent call last):\n",
      "  File \"C:\\Users\\sophiechen\\2022MDS\\Block 3\\Data-533\\project\\step2\\DATA533-testing\\Testing\\test_bankingUI.py\", line 37, in test_finish_signup\n",
      "    self.assertEqual(bankingUI.finish_signup('John', 10001, 10), 'John')\n",
      "TypeError: finish_signup() takes 0 positional arguments but 3 were given\n",
      "\n",
      "======================================================================\n",
      "ERROR: test_signup (Testing.test_bankingUI.TestbankingUI)\n",
      "----------------------------------------------------------------------\n",
      "Traceback (most recent call last):\n",
      "  File \"C:\\Users\\sophiechen\\2022MDS\\Block 3\\Data-533\\project\\step2\\DATA533-testing\\Testing\\test_bankingUI.py\", line 25, in test_signup\n",
      "    self.assertEqual(bankingUI.signup('John', 10001, 10), 'John')\n",
      "TypeError: signup() takes 0 positional arguments but 3 were given\n",
      "\n",
      "======================================================================\n",
      "ERROR: test_withdraw (Testing.test_bankingUI.TestbankingUI)\n",
      "----------------------------------------------------------------------\n",
      "Traceback (most recent call last):\n",
      "  File \"C:\\Users\\sophiechen\\2022MDS\\Block 3\\Data-533\\project\\step2\\DATA533-testing\\Testing\\test_bankingUI.py\", line 31, in test_withdraw\n",
      "    self.assertEqual(bankingUI.withdraw('withdraw'), 'withdraw')\n",
      "TypeError: withdraw() takes 0 positional arguments but 1 was given\n",
      "\n",
      "----------------------------------------------------------------------\n",
      "Ran 9 tests in 0.796s\n",
      "\n",
      "FAILED (errors=3)\n"
     ]
    },
    {
     "name": "stdout",
     "output_type": "stream",
     "text": [
      "Tear Down\n",
      "Set up\n",
      "Tear Down\n",
      "TearDownClass\n",
      "SetupClass\n",
      "Set up\n",
      "Tear Down\n",
      "Set up\n",
      "Tear Down\n",
      "Set up\n",
      "Tear Down\n",
      "TearDownClass\n",
      "SetupClass\n",
      "Set up\n",
      "All fields required!\n",
      "All fields required!\n",
      "Account Already Exists!\n",
      "Account Already Exists!\n",
      "Tear Down\n",
      "Set up\n",
      "Please check your spell of name!\n",
      "Validation Pass!\n",
      "Validation Pass!\n",
      "Please check your spell of name!\n",
      "Tear Down\n",
      "TearDownClass\n",
      "<unittest.runner.TextTestResult run=9 errors=3 failures=0>\n"
     ]
    }
   ],
   "source": [
    "import test_suite"
   ]
  },
  {
   "cell_type": "code",
   "execution_count": 5,
   "id": "41322ef7",
   "metadata": {},
   "outputs": [
    {
     "name": "stderr",
     "output_type": "stream",
     "text": [
      "test_addAccount (__main__.TestbankingDS) ... ok\n",
      "test_newUser (__main__.test_User) ... ok\n",
      "test_user (__main__.test_User) ... ok\n",
      "test_interest (__main__.test_calculation) ... "
     ]
    },
    {
     "name": "stdout",
     "output_type": "stream",
     "text": [
      "SetupClass\n",
      "Set up\n",
      "All fields required!\n",
      "All fields required!\n",
      "Account Already Exists!\n",
      "Account Already Exists!\n",
      "Tear Down\n",
      "TearDownClass\n",
      "SetupClass\n",
      "Set up\n"
     ]
    },
    {
     "name": "stderr",
     "output_type": "stream",
     "text": [
      "ok\n",
      "test_service (__main__.test_calculation) ... ok\n",
      "\n",
      "----------------------------------------------------------------------\n",
      "Ran 5 tests in 0.797s\n",
      "\n",
      "OK\n"
     ]
    },
    {
     "name": "stdout",
     "output_type": "stream",
     "text": [
      "Tear Down\n",
      "Set up\n",
      "Tear Down\n",
      "TearDownClass\n"
     ]
    },
    {
     "data": {
      "text/plain": [
       "<unittest.main.TestProgram at 0x1d423d98a60>"
      ]
     },
     "execution_count": 5,
     "metadata": {},
     "output_type": "execute_result"
    }
   ],
   "source": [
    "from BankAccountSystem.Interface import bankingDS\n",
    "import os\n",
    "\n",
    "class TestbankingDS(unittest.TestCase): # test class\n",
    "    def setUp(self):\n",
    "        print('Set up')\n",
    "\n",
    "    def tearDown(self):\n",
    "        print('Tear Down')\n",
    "\n",
    "    @classmethod\n",
    "    def setUpClass(cls):\n",
    "        print('SetupClass')\n",
    "\n",
    "    @classmethod\n",
    "    def tearDownClass(cls):\n",
    "        print('TearDownClass')\n",
    "\n",
    "    def test_addAccount(self):\n",
    "        self.assertEqual(bankingDS.addAccount('', 10001, 10, 200), \"All fields required!\")\n",
    "        self.assertEqual(bankingDS.addAccount('Mary', '', 20, 200), 'All fields required!')\n",
    "        self.assertEqual(bankingDS.addAccount('Tom', 10003, 30, 200), 'Account Already Exists!')\n",
    "        self.assertEqual(bankingDS.addAccount('Jack', 10004, 50, 200), 'Account Already Exists!')\n",
    "\n",
    "\n",
    "def test_validate(self):\n",
    "        self.assertEqual(bankingDS.validate('Mary', 999999), 'Please check your account number!')\n",
    "        self.assertEqual(bankingDS.validate('Tom', 10003), 'Please check your account number!')\n",
    "        self.assertEqual(bankingDS.validate('Jack', 10004), 'Validation Pass!')\n",
    "        self.assertEqual(bankingDS.validate('Jaack', 10004), 'Please check your spell of name!')\n",
    "        \n",
    "unittest.main(argv=[''], verbosity=2, exit=False)"
   ]
  },
  {
   "cell_type": "code",
   "execution_count": 6,
   "id": "5e5d7a69",
   "metadata": {},
   "outputs": [
    {
     "name": "stdout",
     "output_type": "stream",
     "text": [
      "All fields required!\n"
     ]
    },
    {
     "data": {
      "text/plain": [
       "True"
      ]
     },
     "execution_count": 6,
     "metadata": {},
     "output_type": "execute_result"
    }
   ],
   "source": [
    "bankingDS.addAccount('', 10001, 10, 200) == \"All fields required!\""
   ]
  },
  {
   "cell_type": "code",
   "execution_count": 7,
   "id": "9bd7ef8a",
   "metadata": {},
   "outputs": [
    {
     "name": "stderr",
     "output_type": "stream",
     "text": [
      "test_validate (__main__.TestbankingDS) ... C:\\Users\\sophiechen\\AppData\\Local\\Temp\\ipykernel_22664\\3613511466.py:21: ResourceWarning: unclosed file <_io.TextIOWrapper name='Tom' mode='r' encoding='cp950'>\n",
      "  self.assertEqual(bankingDS.validate('Tom', 10003), True)\n",
      "ResourceWarning: Enable tracemalloc to get the object allocation traceback\n",
      "C:\\Users\\sophiechen\\AppData\\Local\\Temp\\ipykernel_22664\\3613511466.py:22: ResourceWarning: unclosed file <_io.TextIOWrapper name='Jack' mode='r' encoding='cp950'>\n",
      "  self.assertEqual(bankingDS.validate('Jack', 10004), True)\n",
      "ResourceWarning: Enable tracemalloc to get the object allocation traceback\n",
      "ok\n",
      "test_newUser (__main__.test_User) ... ok\n",
      "test_user (__main__.test_User) ... ok\n",
      "test_interest (__main__.test_calculation) ... "
     ]
    },
    {
     "name": "stdout",
     "output_type": "stream",
     "text": [
      "SetupClass\n",
      "Set up\n",
      "Please check your spell of name!\n",
      "Validation Pass!\n",
      "Validation Pass!\n",
      "Please check your spell of name!\n",
      "Tear Down\n",
      "TearDownClass\n",
      "SetupClass\n",
      "Set up\n"
     ]
    },
    {
     "name": "stderr",
     "output_type": "stream",
     "text": [
      "ok\n",
      "test_service (__main__.test_calculation) ... ok\n",
      "\n",
      "----------------------------------------------------------------------\n",
      "Ran 5 tests in 0.777s\n",
      "\n",
      "OK\n"
     ]
    },
    {
     "name": "stdout",
     "output_type": "stream",
     "text": [
      "Tear Down\n",
      "Set up\n",
      "Tear Down\n",
      "TearDownClass\n"
     ]
    },
    {
     "data": {
      "text/plain": [
       "<unittest.main.TestProgram at 0x1d4220d2c10>"
      ]
     },
     "execution_count": 7,
     "metadata": {},
     "output_type": "execute_result"
    }
   ],
   "source": [
    "from BankAccountSystem.Interface import bankingDS\n",
    "import os\n",
    "\n",
    "class TestbankingDS(unittest.TestCase): # test class\n",
    "    def setUp(self):\n",
    "        print('Set up')\n",
    "\n",
    "    def tearDown(self):\n",
    "        print('Tear Down')\n",
    "\n",
    "    @classmethod\n",
    "    def setUpClass(cls):\n",
    "        print('SetupClass')\n",
    "\n",
    "    @classmethod\n",
    "    def tearDownClass(cls):\n",
    "        print('TearDownClass')\n",
    "\n",
    "    def test_validate(self):\n",
    "        self.assertEqual(bankingDS.validate('Mary', 999999), 'Please check your spell of name!')\n",
    "        self.assertEqual(bankingDS.validate('Tom', 10003), True)\n",
    "        self.assertEqual(bankingDS.validate('Jack', 10004), True)\n",
    "        self.assertEqual(bankingDS.validate('Jaack', 10004), 'Please check your spell of name!')\n",
    "\n",
    "unittest.main(argv=[''], verbosity=2, exit=False)"
   ]
  },
  {
   "cell_type": "code",
   "execution_count": 8,
   "id": "309c598e",
   "metadata": {},
   "outputs": [
    {
     "name": "stdout",
     "output_type": "stream",
     "text": [
      "Validation Pass!\n"
     ]
    },
    {
     "data": {
      "text/plain": [
       "True"
      ]
     },
     "execution_count": 8,
     "metadata": {},
     "output_type": "execute_result"
    }
   ],
   "source": [
    "bankingDS.validate('Tom', 10003)"
   ]
  },
  {
   "cell_type": "code",
   "execution_count": null,
   "id": "41a334f4",
   "metadata": {},
   "outputs": [],
   "source": []
  }
 ],
 "metadata": {
  "kernelspec": {
   "display_name": "Python 3 (ipykernel)",
   "language": "python",
   "name": "python3"
  },
  "language_info": {
   "codemirror_mode": {
    "name": "ipython",
    "version": 3
   },
   "file_extension": ".py",
   "mimetype": "text/x-python",
   "name": "python",
   "nbconvert_exporter": "python",
   "pygments_lexer": "ipython3",
   "version": "3.9.12"
  }
 },
 "nbformat": 4,
 "nbformat_minor": 5
}
