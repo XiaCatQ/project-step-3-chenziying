{
 "cells": [
  {
   "cell_type": "code",
   "execution_count": 4,
   "id": "ebb6d2dd",
   "metadata": {},
   "outputs": [],
   "source": [
    "from BankAccountSystem.Structure.User import *\n",
    "from BankAccountSystem.Structure.calculation import *\n",
    "from BankAccountSystem.Interface.bankingUI import *\n",
    "from BankAccountSystem.Interface.bankingDS import *"
   ]
  },
  {
   "cell_type": "code",
   "execution_count": 2,
   "id": "7939237f",
   "metadata": {},
   "outputs": [],
   "source": [
    "X = newUser('X', 12345, 100)"
   ]
  },
  {
   "cell_type": "code",
   "execution_count": 6,
   "id": "9fee9f9a",
   "metadata": {},
   "outputs": [],
   "source": [
    "# add try_except 1\n",
    "    \n",
    "#     def store(self):\n",
    "#         try:\n",
    "#             ds.addAccount(self.name, self.acc_num, self.init_dps, self.balance)\n",
    "#         except:\n",
    "#             print(\"Account already exists\")"
   ]
  },
  {
   "cell_type": "code",
   "execution_count": 3,
   "id": "30a1f6fd",
   "metadata": {},
   "outputs": [
    {
     "name": "stdout",
     "output_type": "stream",
     "text": [
      "Account Already Exists!\n"
     ]
    }
   ],
   "source": [
    "X.store()"
   ]
  },
  {
   "cell_type": "code",
   "execution_count": 4,
   "id": "037c4725",
   "metadata": {},
   "outputs": [
    {
     "name": "stdout",
     "output_type": "stream",
     "text": [
      "Account Already Exists!\n"
     ]
    }
   ],
   "source": [
    "X.store()"
   ]
  },
  {
   "cell_type": "code",
   "execution_count": 5,
   "id": "799510bf",
   "metadata": {},
   "outputs": [],
   "source": [
    "# add try_except 2\n",
    "\n",
    "# class Error(Exception):\n",
    "#     pass\n",
    "# class AccountValueTooLowError(Error):\n",
    "#     \"\"\"Raised when user want to withdraw money over account balance\"\"\"\n",
    "#     pass\n",
    "\n",
    "# def withdraw(self, amount, date):\n",
    "#         try: \n",
    "#             amount = cal.service(amount)\n",
    "#             if amount > self.balance:\n",
    "#                 raise AccountValueTooLowError\n",
    "#             else:\n",
    "#                 self.balance = self.balance - amount\n",
    "#                 print(f'You withdraw {amount} on {date}')\n",
    "#                 print(f'Your account balance is {self.balance}')\n",
    "#                 return self.balance\n",
    "#         except AccountValueTooLowError:\n",
    "#             print(\"You cannot withdraw the amount over your balance after service fee\")\n",
    "#             print(f'Your account balance is {self.balance}, Service fee is CAD 3')"
   ]
  },
  {
   "cell_type": "code",
   "execution_count": 6,
   "id": "928000c0",
   "metadata": {},
   "outputs": [],
   "source": [
    "X = eUser('S', 12345, 100)"
   ]
  },
  {
   "cell_type": "code",
   "execution_count": 7,
   "id": "ad40e04a",
   "metadata": {},
   "outputs": [
    {
     "name": "stdout",
     "output_type": "stream",
     "text": [
      "You cannot withdraw the amount over your balance after service fee\n",
      "Your account balance is 100, Service fee is CAD 3\n"
     ]
    }
   ],
   "source": [
    "X.withdraw(100, 20221225)"
   ]
  },
  {
   "cell_type": "code",
   "execution_count": 8,
   "id": "d23d6d08",
   "metadata": {},
   "outputs": [
    {
     "name": "stdout",
     "output_type": "stream",
     "text": [
      "You withdraw 13 on 20221225\n",
      "Your account balance is 87\n"
     ]
    },
    {
     "data": {
      "text/plain": [
       "87"
      ]
     },
     "execution_count": 8,
     "metadata": {},
     "output_type": "execute_result"
    }
   ],
   "source": [
    "X.withdraw(10, 20221225)"
   ]
  },
  {
   "cell_type": "code",
   "execution_count": 9,
   "id": "fb70096c",
   "metadata": {},
   "outputs": [],
   "source": [
    "# add try_except 3\n",
    "\n",
    "# class Error(Exception):\n",
    "#     pass\n",
    "# class UserNameTypoError(Error):\n",
    "#     \"\"\"Raised when user type wrong account number\"\"\"\n",
    "#     pass\n",
    "# class AccountNumberTypoError(Error):\n",
    "#     \"\"\"Raised when user type wrong account number\"\"\"\n",
    "#     pass\n",
    "\n",
    "\n",
    "# def validate(n, aN):\n",
    "#     all_accounts = os.listdir()\n",
    "#     try:\n",
    "#         if n not in all_accounts:\n",
    "#             raise UserNameTypoError\n",
    "#         else:\n",
    "#             try:\n",
    "#                 file = open(n, \"r\")\n",
    "#                 file_data = file.read()\n",
    "#                 file_data = file_data.split('\\n')\n",
    "#                 accountNum = file_data[1]\n",
    "                \n",
    "#                 if str(aN) != accountNum:\n",
    "#                     raise AccountNumberTypoError\n",
    "#                 else:\n",
    "#                     print(\"Validation Pass!\")\n",
    "#                     return True\n",
    "#             except AccountNumberTypoError:\n",
    "#                 print(\"AccountNumberTypoError\")\n",
    "#                 print(\"Please check your account number!\")\n",
    "#                 return \"Please check your account number!\"\n",
    "#     except UserNameTypoError:\n",
    "#         print(\"UserNameTypoError\")\n",
    "#         print(\"Please check your spell of name!\")\n",
    "#         return \"Please check your spell of name!\"\n",
    "#     return \"Validation Pass!\""
   ]
  },
  {
   "cell_type": "code",
   "execution_count": 10,
   "id": "aaf7f679",
   "metadata": {},
   "outputs": [
    {
     "name": "stdout",
     "output_type": "stream",
     "text": [
      "UserNameTypoError\n",
      "Please check your spell of name!\n"
     ]
    },
    {
     "data": {
      "text/plain": [
       "'Please check your spell of name!'"
      ]
     },
     "execution_count": 10,
     "metadata": {},
     "output_type": "execute_result"
    }
   ],
   "source": [
    "validate(X, 11445)"
   ]
  },
  {
   "cell_type": "code",
   "execution_count": 12,
   "id": "294f12f7",
   "metadata": {},
   "outputs": [
    {
     "name": "stdout",
     "output_type": "stream",
     "text": [
      "AccountNumberTypoError\n",
      "Please check your account number!\n"
     ]
    },
    {
     "data": {
      "text/plain": [
       "'Please check your account number!'"
      ]
     },
     "execution_count": 12,
     "metadata": {},
     "output_type": "execute_result"
    }
   ],
   "source": [
    "validate('Sherry', 11445)"
   ]
  },
  {
   "cell_type": "code",
   "execution_count": 13,
   "id": "76522ef0",
   "metadata": {},
   "outputs": [
    {
     "name": "stdout",
     "output_type": "stream",
     "text": [
      "Validation Pass!\n"
     ]
    },
    {
     "data": {
      "text/plain": [
       "True"
      ]
     },
     "execution_count": 13,
     "metadata": {},
     "output_type": "execute_result"
    }
   ],
   "source": [
    "validate('Sherry', 10000)"
   ]
  },
  {
   "cell_type": "code",
   "execution_count": 4,
   "id": "afc9f858",
   "metadata": {},
   "outputs": [],
   "source": [
    "# add try_except 4\n",
    "\n",
    "# class Error(Exception):\n",
    "#     pass\n",
    "# class UserNameTypoError(Error):\n",
    "#     \"\"\"Raised when user type wrong account number\"\"\"\n",
    "#     pass\n",
    "# class AccountNumberTypoError(Error):\n",
    "#     \"\"\"Raised when user type wrong account number\"\"\"\n",
    "#     pass\n",
    "# class AccountExistsError(Error):\n",
    "#     \"\"\"Raised when parameter missing\"\"\"\n",
    "#     pass\n",
    "\n",
    "# def addAccount(n, aN, iA, B):\n",
    "#     \"\"\"\n",
    "#     Store new account information\n",
    "    \n",
    "#     n: name\n",
    "#     aN: accountNum\n",
    "#     iA: initial amount\n",
    "#     B: Balance\n",
    "    \n",
    "#     \"\"\"\n",
    "#     all_accounts = os.listdir() \n",
    " \n",
    "\n",
    "#     for name_check in all_accounts:\n",
    "        \n",
    "#         try: \n",
    "#             if n == name_check:\n",
    "#                 raise AccountExistsError\n",
    "#         except:\n",
    "#             print(\"AccountExistsError\")\n",
    "#             print(\"Account Already Exists!\")\n",
    "#             return \"Account Already Exists!\"\n",
    "            \n",
    "            \n",
    "#         else:\n",
    "#             new_file = open(n, \"w\")\n",
    "#             new_file.write(n + '\\n')\n",
    "#             new_file.write(str(aN) + '\\n')\n",
    "#             new_file.write(str(iA) + '\\n')\n",
    "#             new_file.write(str(B) + '\\n')\n",
    "#             new_file.close()"
   ]
  },
  {
   "cell_type": "code",
   "execution_count": 3,
   "id": "3316ad29",
   "metadata": {},
   "outputs": [
    {
     "name": "stdout",
     "output_type": "stream",
     "text": [
      "AccountExistsError\n",
      "Account Already Exists!\n"
     ]
    },
    {
     "data": {
      "text/plain": [
       "'Account Already Exists!'"
      ]
     },
     "execution_count": 3,
     "metadata": {},
     "output_type": "execute_result"
    }
   ],
   "source": [
    "addAccount( 'X', 100000, 100, 100)"
   ]
  },
  {
   "cell_type": "code",
   "execution_count": null,
   "id": "61223d47",
   "metadata": {},
   "outputs": [],
   "source": [
    "# add try_except 5\n",
    "\n",
    "# def delAccount(n, aN):\n",
    "#     try:\n",
    "#         if validate(n, aN) != True:\n",
    "#             raise NoAccountError\n",
    "#     except:\n",
    "#         print(\"NoAccountError\")\n",
    "#     else:\n",
    "#         os.remove(n)"
   ]
  },
  {
   "cell_type": "code",
   "execution_count": 2,
   "id": "838c5653",
   "metadata": {},
   "outputs": [
    {
     "name": "stdout",
     "output_type": "stream",
     "text": [
      "UserNameTypoError\n",
      "Please check your spell of name!\n",
      "NoAccountError\n"
     ]
    }
   ],
   "source": [
    "delAccount('G', 12345)"
   ]
  },
  {
   "cell_type": "code",
   "execution_count": 3,
   "id": "480de7dd",
   "metadata": {},
   "outputs": [],
   "source": [
    "# add try_except 6\n",
    "\n",
    "# class Error(Exception):\n",
    "#     pass\n",
    "# class WrongCurrencyError(Error):\n",
    "#     \"\"\"Raised when user type in currency other than CAD and TWD\"\"\"\n",
    "#     pass\n",
    "\n",
    "# def finish_withdraw(): \n",
    "#     file = open(signin_name, \"r\")\n",
    "#     file_data = file.read()\n",
    "#     user_data = file_data.split(\"\\n\")\n",
    "#     details_name = user_data[0]\n",
    "#     details_accNum = user_data[1]\n",
    "#     details_initial = user_data[2]\n",
    "#     details_balance = user_data[3]\n",
    "#     file.close() \n",
    "    \n",
    "#     E = U.eUser(details_name, details_accNum, int(details_balance))\n",
    "#     try:\n",
    "#         if temp_w_currency.get() != \"TWD\" & temp_w_currency.get() != \"CAD\":\n",
    "#             raise WrongCurrencyError\n",
    "#     except:\n",
    "#         print(\"WrongCurrencyError\")\n",
    "        \n",
    "#     if temp_w_currency.get() == \"TWD\":\n",
    "#         print(Cal.getEXRates())\n",
    "#         WM = E.withdraw(round(int(temp_w_amount.get()) / Cal.getEXRates(),0), temp_w_date)\n",
    "#     else:\n",
    "#         WM = E.withdraw(int(temp_w_amount.get()), temp_w_date)\n",
    "    \n",
    "#     file =  open(signin_name, \"w\") \n",
    "#     file.write(details_name + '\\n')\n",
    "#     file.write(details_accNum + '\\n')\n",
    "#     file.write(details_initial + '\\n')\n",
    "#     file.write(str(WM) + '\\n')  # renew balance\n",
    "#     file.write(\"Withdraw \" + temp_w_date.get() +\": \" + temp_w_amount.get() + '\\n')  # record transaction\n",
    "#     file.close()"
   ]
  },
  {
   "cell_type": "code",
   "execution_count": 2,
   "id": "3e2414db",
   "metadata": {},
   "outputs": [
    {
     "name": "stdout",
     "output_type": "stream",
     "text": [
      "WrongCurrencyError\n",
      "You withdraw 23 on PY_VAR3\n",
      "Your account balance is 77\n"
     ]
    }
   ],
   "source": [
    "main()"
   ]
  },
  {
   "cell_type": "code",
   "execution_count": null,
   "id": "4a9b4949",
   "metadata": {},
   "outputs": [],
   "source": []
  }
 ],
 "metadata": {
  "kernelspec": {
   "display_name": "Python 3 (ipykernel)",
   "language": "python",
   "name": "python3"
  },
  "language_info": {
   "codemirror_mode": {
    "name": "ipython",
    "version": 3
   },
   "file_extension": ".py",
   "mimetype": "text/x-python",
   "name": "python",
   "nbconvert_exporter": "python",
   "pygments_lexer": "ipython3",
   "version": "3.9.12"
  }
 },
 "nbformat": 4,
 "nbformat_minor": 5
}
