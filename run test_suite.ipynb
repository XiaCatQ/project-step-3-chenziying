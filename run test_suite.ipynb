{
 "cells": [
  {
   "cell_type": "code",
   "execution_count": 4,
   "id": "8c3a6ea5",
   "metadata": {},
   "outputs": [
    {
     "name": "stderr",
     "output_type": "stream",
     "text": [
      "........\n",
      "----------------------------------------------------------------------\n",
      "Ran 8 tests in 0.821s\n",
      "\n",
      "OK\n"
     ]
    },
    {
     "name": "stdout",
     "output_type": "stream",
     "text": [
      "SetupClass\n",
      "Set up\n",
      "Tear Down\n",
      "Set up\n",
      "Tear Down\n",
      "TearDownClass\n",
      "SetupClass\n",
      "Set up\n",
      "All fields required!\n",
      "All fields required!\n",
      "Account Already Exists!\n",
      "Account Already Exists!\n",
      "Tear Down\n",
      "Set up\n",
      "Please check your spell of name!\n",
      "Validation Pass!\n",
      "Validation Pass!\n",
      "Please check your spell of name!\n",
      "Tear Down\n",
      "TearDownClass\n",
      "<unittest.runner.TextTestResult run=8 errors=0 failures=0>\n"
     ]
    }
   ],
   "source": [
    "import unittest\n",
    "from test_User import *\n",
    "from test_calculation import *\n",
    "from test_bankingUI import *\n",
    "from test_bankingDS import *\n",
    "\n",
    "\n",
    "def my_suite():\n",
    "    suite = unittest.TestSuite()\n",
    "    result = unittest.TestResult()\n",
    "    suite.addTest(unittest.makeSuite(test_User))\n",
    "    suite.addTest(unittest.makeSuite(test_calculation))\n",
    "    suite.addTest(unittest.makeSuite( test_bankingUI))\n",
    "    suite.addTest(unittest.makeSuite(test_bankingDS))\n",
    "    runner = unittest.TextTestRunner()\n",
    "    print(runner.run(suite))\n",
    "\n",
    "my_suite()\n",
    "\n"
   ]
  },
  {
   "cell_type": "code",
   "execution_count": null,
   "id": "b1d17a8b",
   "metadata": {},
   "outputs": [],
   "source": []
  }
 ],
 "metadata": {
  "kernelspec": {
   "display_name": "Python 3 (ipykernel)",
   "language": "python",
   "name": "python3"
  },
  "language_info": {
   "codemirror_mode": {
    "name": "ipython",
    "version": 3
   },
   "file_extension": ".py",
   "mimetype": "text/x-python",
   "name": "python",
   "nbconvert_exporter": "python",
   "pygments_lexer": "ipython3",
   "version": "3.9.12"
  }
 },
 "nbformat": 4,
 "nbformat_minor": 5
}
