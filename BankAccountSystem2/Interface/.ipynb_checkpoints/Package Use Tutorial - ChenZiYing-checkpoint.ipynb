{
 "cells": [
  {
   "cell_type": "markdown",
   "id": "58c9b8e1",
   "metadata": {},
   "source": [
    "# Import all my module"
   ]
  },
  {
   "cell_type": "code",
   "execution_count": 1,
   "id": "d3148d9a",
   "metadata": {},
   "outputs": [],
   "source": [
    "import bankingUI as UI\n",
    "import bankingDS as ds\n",
    "import sys\n",
    "sys.path.append('C:\\\\Users\\\\sophiechen\\\\2022MDS\\\\Block 3\\\\Data-533\\\\project-step-1-XiaCatQ\\\\BankAccountSystem\\\\Structure')\n",
    "import User as U\n",
    "import calculation as Cal"
   ]
  },
  {
   "cell_type": "markdown",
   "id": "fd5acdf7",
   "metadata": {},
   "source": [
    "# How to use my system\n",
    "\n",
    "1. call the main function from bankingUI module:   \n",
    "\n",
    "    ![image](main.png)\n",
    "\n",
    "2. click sign up   \n",
    "    \n",
    "    ![image2](signup.png)\n",
    "    \n",
    "3. click sign in      \n",
    "\n",
    "    ![image3](signin.png)\n",
    "    ![image4](signin2.png)\n",
    "    \n",
    "4. check account information - click Personal Details   \n",
    "\n",
    "    ![image5](PD.png)\n",
    "    \n",
    "5. Deposit   \n",
    "    \n",
    "    ![IMAGE6](deposit.png)\n",
    "\n",
    "6. Withdraw CAD   \n",
    "    There are CAD 3 service fee each withdraw     \n",
    "    ![IMAGE7](withdrawCAD.png)\n",
    "\n",
    "7. Withdraw TWD\n",
    "    There are CAD 3 service fee each withdraw   \n",
    "    100 TWD = 4 CAD   \n",
    "    ![image8]( withdarwTWD.png)\n",
    "    \n",
    "8. close all the window as you finish option."
   ]
  },
  {
   "cell_type": "code",
   "execution_count": 2,
   "id": "eead720d",
   "metadata": {},
   "outputs": [
    {
     "name": "stdout",
     "output_type": "stream",
     "text": [
      "Account Already Exists!\n",
      "Account Already Exists!\n",
      "Account Already Exists!\n",
      "Account Already Exists!\n",
      "Account Already Exists!\n",
      "Account Already Exists!\n",
      "['Test', '92524', '100', '100', '']\n",
      "You successfully deposit 50 on PY_VAR6\n",
      "Your account balance is now: 150\n",
      "You withdraw 53 on PY_VAR8\n",
      "Your account balance is 97\n",
      "22.511337\n",
      "You withdraw 7.0 on PY_VAR11\n",
      "Your account balance is 90.0\n"
     ]
    }
   ],
   "source": [
    "UI.main()"
   ]
  },
  {
   "cell_type": "code",
   "execution_count": null,
   "id": "7e8c0b11",
   "metadata": {},
   "outputs": [],
   "source": []
  },
  {
   "cell_type": "code",
   "execution_count": null,
   "id": "3217e712",
   "metadata": {},
   "outputs": [],
   "source": []
  },
  {
   "cell_type": "code",
   "execution_count": null,
   "id": "c0cc4690",
   "metadata": {},
   "outputs": [],
   "source": []
  }
 ],
 "metadata": {
  "kernelspec": {
   "display_name": "Python 3 (ipykernel)",
   "language": "python",
   "name": "python3"
  },
  "language_info": {
   "codemirror_mode": {
    "name": "ipython",
    "version": 3
   },
   "file_extension": ".py",
   "mimetype": "text/x-python",
   "name": "python",
   "nbconvert_exporter": "python",
   "pygments_lexer": "ipython3",
   "version": "3.9.12"
  }
 },
 "nbformat": 4,
 "nbformat_minor": 5
}
