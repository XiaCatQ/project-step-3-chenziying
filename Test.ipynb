{
 "cells": [
  {
   "cell_type": "code",
   "execution_count": 1,
   "id": "34c4df7b",
   "metadata": {},
   "outputs": [],
   "source": [
    "import unittest \n",
    "from BankAccountSystem.Structure import User as U\n",
    "from BankAccountSystem.Structure import calculation as cal"
   ]
  },
  {
   "cell_type": "code",
   "execution_count": 3,
   "id": "653e0816",
   "metadata": {},
   "outputs": [
    {
     "name": "stderr",
     "output_type": "stream",
     "text": [
      "test_newUser (__main__.test_User) ... ok\n",
      "test_user (__main__.test_User) ... ok\n",
      "\n",
      "----------------------------------------------------------------------\n",
      "Ran 2 tests in 0.004s\n",
      "\n",
      "OK\n"
     ]
    },
    {
     "data": {
      "text/plain": [
       "<unittest.main.TestProgram at 0x219255eb580>"
      ]
     },
     "execution_count": 3,
     "metadata": {},
     "output_type": "execute_result"
    }
   ],
   "source": [
    "class test_User(unittest.TestCase): # test class \n",
    "\n",
    "    def setUp(self):\n",
    "        self.user1 = U.User('Sherry', 10000)\n",
    "        self.user2 = U.User('Yuki', 11111)\n",
    "        self.user3 = U.User('Nyx', 22222)\n",
    "        self.user4 = U.User('Shveta', 33333)\n",
    "        self.newuser1 = U.newUser('Sherry', 10000, 10)\n",
    "        self.newuser2 = U.newUser('Yuki', 11111, 20)\n",
    "        self.newuser3 = U.newUser('Nyx', 22222, 30)\n",
    "        self.newuser4 = U.newUser('Shveta', 33333, 40)\n",
    "\n",
    "\n",
    "    def test_user(self):\n",
    "        self.assertIsInstance(self.user1 , U.User)\n",
    "        self.assertIsInstance(self.user2 , U.User)\n",
    "        self.assertIsInstance(self.user3 , U.User)\n",
    "        self.assertIsInstance(self.user4 , U.User)\n",
    "\n",
    "    def test_newUser(self):\n",
    "        self.assertIsInstance(self.newuser1 , U.newUser)\n",
    "        self.assertIsInstance(self.newuser2 , U.newUser)\n",
    "        self.assertIsInstance(self.newuser3 , U.newUser)\n",
    "        self.assertIsInstance(self.newuser4 , U.newUser)\n",
    "\n",
    "unittest.main(argv=[''], verbosity=2, exit=False)\n"
   ]
  },
  {
   "cell_type": "code",
   "execution_count": 3,
   "id": "791d5fc3",
   "metadata": {},
   "outputs": [
    {
     "name": "stderr",
     "output_type": "stream",
     "text": [
      "test_newUser (__main__.test_User) ... ok\n",
      "test_user (__main__.test_User) ... ok\n",
      "test_interest (__main__.test_calculation) ... "
     ]
    },
    {
     "name": "stdout",
     "output_type": "stream",
     "text": [
      "SetupClass\n",
      "Set up\n"
     ]
    },
    {
     "name": "stderr",
     "output_type": "stream",
     "text": [
      "ok\n",
      "test_service (__main__.test_calculation) ... ok\n",
      "\n",
      "----------------------------------------------------------------------\n",
      "Ran 4 tests in 0.880s\n",
      "\n",
      "OK\n"
     ]
    },
    {
     "name": "stdout",
     "output_type": "stream",
     "text": [
      "Tear Down\n",
      "Set up\n",
      "Tear Down\n",
      "TearDownClass\n"
     ]
    },
    {
     "data": {
      "text/plain": [
       "<unittest.main.TestProgram at 0x1d421a8c400>"
      ]
     },
     "execution_count": 3,
     "metadata": {},
     "output_type": "execute_result"
    }
   ],
   "source": [
    "class test_calculation(unittest.TestCase): # test class\n",
    "    def setUp(self):\n",
    "        print('Set up')\n",
    "\n",
    "    def tearDown(self):\n",
    "        print('Tear Down')\n",
    "\n",
    "    @classmethod\n",
    "    def setUpClass(cls):\n",
    "        print('SetupClass')\n",
    "\n",
    "    @classmethod\n",
    "    def tearDownClass(cls):\n",
    "        print('TearDownClass')\n",
    "\n",
    "    def test_interest(self):\n",
    "        self.assertEqual(round(cal.interest(1), 5), 0.0001)\n",
    "        self.assertEqual(round(cal.interest(2), 5), 0.0002)\n",
    "        self.assertEqual(round(cal.interest(3), 5), 0.0003)\n",
    "        self.assertEqual(round(cal.interest(4), 5), 0.0004)\n",
    "\n",
    "    def test_service(self):\n",
    "        self.assertEqual(cal.service(100), 103)\n",
    "        self.assertEqual(cal.service(200), 203)\n",
    "        self.assertEqual(cal.service(300), 303)\n",
    "        self.assertEqual(cal.service(400), 403)\n",
    "\n",
    "unittest.main(argv=[''], verbosity=2, exit=False)"
   ]
  },
  {
   "cell_type": "code",
   "execution_count": 4,
   "id": "43a26277",
   "metadata": {},
   "outputs": [
    {
     "ename": "NameError",
     "evalue": "name 'test_User' is not defined",
     "output_type": "error",
     "traceback": [
      "\u001b[1;31m---------------------------------------------------------------------------\u001b[0m",
      "\u001b[1;31mNameError\u001b[0m                                 Traceback (most recent call last)",
      "Input \u001b[1;32mIn [4]\u001b[0m, in \u001b[0;36m<cell line: 1>\u001b[1;34m()\u001b[0m\n\u001b[1;32m----> 1\u001b[0m \u001b[38;5;28;01mimport\u001b[39;00m \u001b[38;5;21;01mtest_suite\u001b[39;00m\n",
      "File \u001b[1;32m~\\2022MDS\\Block 3\\Data-533\\project-step-3-chenziying\\test_suite.py:17\u001b[0m, in \u001b[0;36m<module>\u001b[1;34m\u001b[0m\n\u001b[0;32m     14\u001b[0m     runner \u001b[38;5;241m=\u001b[39m unittest\u001b[38;5;241m.\u001b[39mTextTestRunner()\n\u001b[0;32m     15\u001b[0m     \u001b[38;5;28mprint\u001b[39m(runner\u001b[38;5;241m.\u001b[39mrun(suite))\n\u001b[1;32m---> 17\u001b[0m \u001b[43mmy_suite\u001b[49m\u001b[43m(\u001b[49m\u001b[43m)\u001b[49m\n",
      "File \u001b[1;32m~\\2022MDS\\Block 3\\Data-533\\project-step-3-chenziying\\test_suite.py:10\u001b[0m, in \u001b[0;36mmy_suite\u001b[1;34m()\u001b[0m\n\u001b[0;32m      8\u001b[0m suite \u001b[38;5;241m=\u001b[39m unittest\u001b[38;5;241m.\u001b[39mTestSuite()\n\u001b[0;32m      9\u001b[0m result \u001b[38;5;241m=\u001b[39m unittest\u001b[38;5;241m.\u001b[39mTestResult()\n\u001b[1;32m---> 10\u001b[0m suite\u001b[38;5;241m.\u001b[39maddTest(unittest\u001b[38;5;241m.\u001b[39mmakeSuite(\u001b[43mtest_User\u001b[49m))\n\u001b[0;32m     11\u001b[0m suite\u001b[38;5;241m.\u001b[39maddTest(unittest\u001b[38;5;241m.\u001b[39mmakeSuite(test_calculation))\n\u001b[0;32m     12\u001b[0m suite\u001b[38;5;241m.\u001b[39maddTest(unittest\u001b[38;5;241m.\u001b[39mmakeSuite(test_bankingUI))\n",
      "\u001b[1;31mNameError\u001b[0m: name 'test_User' is not defined"
     ]
    }
   ],
   "source": [
    "import test_suite"
   ]
  },
  {
   "cell_type": "code",
   "execution_count": 9,
   "id": "41322ef7",
   "metadata": {},
   "outputs": [
    {
     "name": "stderr",
     "output_type": "stream",
     "text": [
      "test_validate (__main__.TestbankingDS) ... C:\\Users\\sophiechen\\AppData\\Local\\Temp\\ipykernel_22664\\3613511466.py:21: ResourceWarning: unclosed file <_io.TextIOWrapper name='Tom' mode='r' encoding='cp950'>\n",
      "  self.assertEqual(bankingDS.validate('Tom', 10003), True)\n",
      "ResourceWarning: Enable tracemalloc to get the object allocation traceback\n",
      "C:\\Users\\sophiechen\\AppData\\Local\\Temp\\ipykernel_22664\\3613511466.py:22: ResourceWarning: unclosed file <_io.TextIOWrapper name='Jack' mode='r' encoding='cp950'>\n",
      "  self.assertEqual(bankingDS.validate('Jack', 10004), True)\n",
      "ResourceWarning: Enable tracemalloc to get the object allocation traceback\n",
      "ok\n",
      "test_finish_signup (__main__.TestbankingUI) ... ERROR\n",
      "test_signup (__main__.TestbankingUI) ... ERROR\n",
      "test_withdraw (__main__.TestbankingUI) ... ERROR\n",
      "test_newUser (__main__.test_User) ... ok\n",
      "test_user (__main__.test_User) ... ok\n",
      "test_interest (__main__.test_calculation) ... "
     ]
    },
    {
     "name": "stdout",
     "output_type": "stream",
     "text": [
      "SetupClass\n",
      "Set up\n",
      "Please check your spell of name!\n",
      "Validation Pass!\n",
      "Validation Pass!\n",
      "Please check your spell of name!\n",
      "Tear Down\n",
      "TearDownClass\n",
      "SetupClass\n",
      "Set up\n",
      "Tear Down\n",
      "Set up\n",
      "Tear Down\n",
      "Set up\n",
      "Tear Down\n",
      "TearDownClass\n",
      "SetupClass\n",
      "Set up\n"
     ]
    },
    {
     "name": "stderr",
     "output_type": "stream",
     "text": [
      "ok\n",
      "test_service (__main__.test_calculation) ... ok\n",
      "\n",
      "======================================================================\n",
      "ERROR: test_finish_signup (__main__.TestbankingUI)\n",
      "----------------------------------------------------------------------\n",
      "Traceback (most recent call last):\n",
      "  File \"C:\\Users\\sophiechen\\AppData\\Local\\Temp\\ipykernel_22664\\624102835.py\", line 37, in test_finish_signup\n",
      "    self.assertEqual(bankingUI.finish_signup('John', 10001, 10), 'John')\n",
      "TypeError: finish_signup() takes 0 positional arguments but 3 were given\n",
      "\n",
      "======================================================================\n",
      "ERROR: test_signup (__main__.TestbankingUI)\n",
      "----------------------------------------------------------------------\n",
      "Traceback (most recent call last):\n",
      "  File \"C:\\Users\\sophiechen\\AppData\\Local\\Temp\\ipykernel_22664\\624102835.py\", line 25, in test_signup\n",
      "    self.assertEqual(bankingUI.signup('John', 10001, 10), 'John')\n",
      "TypeError: signup() takes 0 positional arguments but 3 were given\n",
      "\n",
      "======================================================================\n",
      "ERROR: test_withdraw (__main__.TestbankingUI)\n",
      "----------------------------------------------------------------------\n",
      "Traceback (most recent call last):\n",
      "  File \"C:\\Users\\sophiechen\\AppData\\Local\\Temp\\ipykernel_22664\\624102835.py\", line 31, in test_withdraw\n",
      "    self.assertEqual(bankingUI.withdraw('withdraw'), 'withdraw')\n",
      "TypeError: withdraw() takes 0 positional arguments but 1 was given\n",
      "\n",
      "----------------------------------------------------------------------\n",
      "Ran 8 tests in 0.871s\n",
      "\n",
      "FAILED (errors=3)\n"
     ]
    },
    {
     "name": "stdout",
     "output_type": "stream",
     "text": [
      "Tear Down\n",
      "Set up\n",
      "Tear Down\n",
      "TearDownClass\n"
     ]
    },
    {
     "data": {
      "text/plain": [
       "<unittest.main.TestProgram at 0x1d423dcef40>"
      ]
     },
     "execution_count": 9,
     "metadata": {},
     "output_type": "execute_result"
    }
   ],
   "source": [
    "import unittest  # Jupyter notebook\n",
    "\n",
    "\n",
    "from BankAccountSystem.Interface import bankingDS as ds\n",
    "import BankAccountSystem.Interface.bankingUI as bankingUI\n",
    "\n",
    "\n",
    "\n",
    "class TestbankingUI(unittest.TestCase):  # test class\n",
    "    def setUp(self):\n",
    "        print('Set up')\n",
    "\n",
    "    def tearDown(self):\n",
    "        print('Tear Down')\n",
    "\n",
    "    @classmethod\n",
    "    def setUpClass(cls):\n",
    "        print('SetupClass')\n",
    "\n",
    "    @classmethod\n",
    "    def tearDownClass(cls):\n",
    "        print('TearDownClass')\n",
    "\n",
    "    def test_signup(self):\n",
    "        self.assertEqual(bankingUI.signup('John', 10001, 10), 'John')\n",
    "        self.assertEqual(bankingUI.signup('Mary', 10002, 20), 'Mary')\n",
    "        self.assertEqual(bankingUI.signup('Tom', 10003, 30), 'Tom')\n",
    "        self.assertEqual(bankingUI.signup('Jack', 10004, 50), 'Jack')\n",
    "\n",
    "    def test_withdraw(self):\n",
    "        self.assertEqual(bankingUI.withdraw('withdraw'), 'withdraw')\n",
    "        self.assertEqual(bankingUI.withdraw('deposit'), 'withdraw')\n",
    "        self.assertEqual(bankingUI.withdraw('22'), 'withdraw')\n",
    "        self.assertEqual(bankingUI.withdraw('depo'), 'with')\n",
    "\n",
    "    def test_finish_signup(self):\n",
    "        self.assertEqual(bankingUI.finish_signup('John', 10001, 10), 'John')\n",
    "        self.assertEqual(bankingUI.finish_signup('Mary', 10002, 20), 'Mary')\n",
    "        self.assertEqual(bankingUI.finish_signup('Tom', 10003, 30), 'Tom')\n",
    "        self.assertEqual(bankingUI.finish_signup('Jack', 10004, 50), 'Jack')\n",
    "\n",
    "\n",
    "unittest.main(argv=[''], verbosity=2, exit=False)\n",
    "\n",
    "\n",
    "#%%\n"
   ]
  },
  {
   "cell_type": "code",
   "execution_count": null,
   "id": "54bd3325",
   "metadata": {},
   "outputs": [],
   "source": []
  }
 ],
 "metadata": {
  "kernelspec": {
   "display_name": "Python 3 (ipykernel)",
   "language": "python",
   "name": "python3"
  },
  "language_info": {
   "codemirror_mode": {
    "name": "ipython",
    "version": 3
   },
   "file_extension": ".py",
   "mimetype": "text/x-python",
   "name": "python",
   "nbconvert_exporter": "python",
   "pygments_lexer": "ipython3",
   "version": "3.9.12"
  }
 },
 "nbformat": 4,
 "nbformat_minor": 5
}
