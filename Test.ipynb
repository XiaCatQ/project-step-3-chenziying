{
 "cells": [
  {
   "cell_type": "code",
   "execution_count": 3,
   "id": "34c4df7b",
   "metadata": {},
   "outputs": [],
   "source": [
    "import unittest \n",
    "from BankAccountSystem.Structure import User as U\n",
    "from BankAccountSystem.Structure import calculation as cal"
   ]
  },
  {
   "cell_type": "code",
   "execution_count": 4,
   "id": "916987b3",
   "metadata": {},
   "outputs": [
    {
     "name": "stderr",
     "output_type": "stream",
     "text": [
      "test_newUser (__main__.test_User) ... ok\n",
      "test_user (__main__.test_User) ... ok\n",
      "\n",
      "----------------------------------------------------------------------\n",
      "Ran 2 tests in 0.008s\n",
      "\n",
      "OK\n"
     ]
    },
    {
     "data": {
      "text/plain": [
       "<unittest.main.TestProgram at 0x1e3e9840040>"
      ]
     },
     "execution_count": 4,
     "metadata": {},
     "output_type": "execute_result"
    }
   ],
   "source": [
    "import unittest \n",
    "from BankAccountSystem.Structure import User as U\n",
    "from BankAccountSystem.Structure import calculation as cal\n",
    "\n",
    "class test_User(unittest.TestCase): # test class \n",
    "\n",
    "    def setUp(self):\n",
    "        self.user1 = U.User('Sherry', 10000)\n",
    "        self.user2 = U.User('Yuki', 11111)\n",
    "        self.user3 = U.User('Nyx', 22222)\n",
    "        self.user4 = U.User('Shveta', 33333)\n",
    "        self.newuser1 = U.newUser('Sherry', 10000, 10)\n",
    "        self.newuser2 = U.newUser('Yuki', 11111, 20)\n",
    "        self.newuser3 = U.newUser('Nyx', 22222, 30)\n",
    "        self.newuser4 = U.newUser('Shveta', 33333, 40)\n",
    "\n",
    "\n",
    "    def test_user(self):\n",
    "        self.assertIsInstance(self.user1 , U.User)\n",
    "        self.assertIsInstance(self.user2 , U.User)\n",
    "        self.assertIsInstance(self.user3 , U.User)\n",
    "        self.assertIsInstance(self.user4 , U.User)\n",
    "\n",
    "    def test_newUser(self):\n",
    "        self.assertIsInstance(self.newuser1 , U.newUser)\n",
    "        self.assertIsInstance(self.newuser2 , U.newUser)\n",
    "        self.assertIsInstance(self.newuser3 , U.newUser)\n",
    "        self.assertIsInstance(self.newuser4 , U.newUser)\n",
    "\n",
    "unittest.main(argv=[''], verbosity=2, exit=False)\n"
   ]
  },
  {
   "cell_type": "code",
   "execution_count": 5,
   "id": "5f58f425",
   "metadata": {},
   "outputs": [
    {
     "name": "stderr",
     "output_type": "stream",
     "text": [
      "test_newUser (__main__.test_User) ... ok\n",
      "test_user (__main__.test_User) ... ok\n",
      "test_interest (__main__.test_calculation) ... ok\n",
      "test_service (__main__.test_calculation) ... ok\n",
      "\n",
      "----------------------------------------------------------------------\n",
      "Ran 4 tests in 1.027s\n",
      "\n",
      "OK\n"
     ]
    },
    {
     "data": {
      "text/plain": [
       "<unittest.main.TestProgram at 0x1e3e9843b80>"
      ]
     },
     "execution_count": 5,
     "metadata": {},
     "output_type": "execute_result"
    }
   ],
   "source": [
    "import unittest \n",
    "from BankAccountSystem.Structure import User as U\n",
    "from BankAccountSystem.Structure import calculation as cal\n",
    "\n",
    "class test_calculation(unittest.TestCase): # test class\n",
    "\n",
    "    def test_interest(self):\n",
    "        self.assertEqual(round(cal.interest(1), 5), 0.0001)\n",
    "        self.assertEqual(round(cal.interest(2), 5), 0.0002)\n",
    "        self.assertEqual(round(cal.interest(3), 5), 0.0003)\n",
    "        self.assertEqual(round(cal.interest(4), 5), 0.0004)\n",
    "\n",
    "    def test_service(self):\n",
    "        self.assertEqual(cal.service(100), 103)\n",
    "        self.assertEqual(cal.service(200), 203)\n",
    "        self.assertEqual(cal.service(300), 303)\n",
    "        self.assertEqual(cal.service(400), 403)\n",
    "\n",
    "unittest.main(argv=[''], verbosity=2, exit=False)"
   ]
  },
  {
   "cell_type": "code",
   "execution_count": 7,
   "id": "6399474d",
   "metadata": {},
   "outputs": [
    {
     "name": "stderr",
     "output_type": "stream",
     "text": [
      "test_addAccount (__main__.TestbankingDS) ... ok\n",
      "test_validate (__main__.TestbankingDS) ... C:\\Users\\sophiechen\\AppData\\Local\\Temp\\ipykernel_648\\2399294718.py:31: ResourceWarning: unclosed file <_io.TextIOWrapper name='Tom' mode='r' encoding='cp950'>\n",
      "  self.assertEqual(bankingDS.validate('Tom', 10003), True)\n",
      "ResourceWarning: Enable tracemalloc to get the object allocation traceback\n",
      "C:\\Users\\sophiechen\\AppData\\Local\\Temp\\ipykernel_648\\2399294718.py:32: ResourceWarning: unclosed file <_io.TextIOWrapper name='Jack' mode='r' encoding='cp950'>\n",
      "  self.assertEqual(bankingDS.validate('Jack', 10004), True)\n",
      "ResourceWarning: Enable tracemalloc to get the object allocation traceback\n",
      "ok\n",
      "test_newUser (__main__.test_User) ... ok\n",
      "test_user (__main__.test_User) ... ok\n",
      "test_addAccount (__main__.test_bankingDS) ... ok\n",
      "test_validate (__main__.test_bankingDS) ... ok\n",
      "test_interest (__main__.test_calculation) ... "
     ]
    },
    {
     "name": "stdout",
     "output_type": "stream",
     "text": [
      "SetupClass\n",
      "Set up\n",
      "All fields required!\n",
      "All fields required!\n",
      "Account Already Exists!\n",
      "Account Already Exists!\n",
      "Tear Down\n",
      "Set up\n",
      "Please check your spell of name!\n",
      "Validation Pass!\n",
      "Validation Pass!\n",
      "Please check your spell of name!\n",
      "Tear Down\n",
      "TearDownClass\n",
      "SetupClass\n",
      "Set up\n",
      "All fields required!\n",
      "All fields required!\n",
      "Account Already Exists!\n",
      "Account Already Exists!\n",
      "Tear Down\n",
      "Set up\n",
      "Please check your spell of name!\n",
      "Validation Pass!\n",
      "Validation Pass!\n",
      "Please check your spell of name!\n",
      "Tear Down\n",
      "TearDownClass\n"
     ]
    },
    {
     "name": "stderr",
     "output_type": "stream",
     "text": [
      "ok\n",
      "test_service (__main__.test_calculation) ... ok\n",
      "\n",
      "----------------------------------------------------------------------\n",
      "Ran 8 tests in 0.808s\n",
      "\n",
      "OK\n"
     ]
    },
    {
     "data": {
      "text/plain": [
       "<unittest.main.TestProgram at 0x1e3e9ab9f40>"
      ]
     },
     "execution_count": 7,
     "metadata": {},
     "output_type": "execute_result"
    }
   ],
   "source": [
    "import unittest  # Jupyter notebook\n",
    "\n",
    "\n",
    "from BankAccountSystem.Interface import bankingDS\n",
    "import os\n",
    "\n",
    "class test_bankingDS(unittest.TestCase): # test class\n",
    "    def setUp(self):\n",
    "        print('Set up')\n",
    "\n",
    "    def tearDown(self):\n",
    "        print('Tear Down')\n",
    "\n",
    "    @classmethod\n",
    "    def setUpClass(cls):\n",
    "        print('SetupClass')\n",
    "\n",
    "    @classmethod\n",
    "    def tearDownClass(cls):\n",
    "        print('TearDownClass')\n",
    "\n",
    "    def test_addAccount(self):\n",
    "        self.assertEqual(bankingDS.addAccount('', 10001, 10, 200), \"All fields required!\")\n",
    "        self.assertEqual(bankingDS.addAccount('Mary', '', 20, 200), 'All fields required!')\n",
    "        self.assertEqual(bankingDS.addAccount('Tom', 10003, 30, 200), 'Account Already Exists!')\n",
    "        self.assertEqual(bankingDS.addAccount('Jack', 10004, 50, 200), 'Account Already Exists!')\n",
    "\n",
    "\n",
    "    def test_validate(self):\n",
    "        self.assertEqual(bankingDS.validate('Mary', 999999), 'Please check your spell of name!')\n",
    "        self.assertEqual(bankingDS.validate('Tom', 10003), True)\n",
    "        self.assertEqual(bankingDS.validate('Jack', 10004), True)\n",
    "        self.assertEqual(bankingDS.validate('Jaack', 10004), 'Please check your spell of name!')\n",
    "\n",
    "unittest.main(argv=[''], verbosity=2, exit=False)\n",
    "\n",
    "#%%\n"
   ]
  },
  {
   "cell_type": "code",
   "execution_count": 8,
   "id": "fc5709b3",
   "metadata": {},
   "outputs": [
    {
     "name": "stderr",
     "output_type": "stream",
     "text": [
      "test_addAccount (__main__.TestbankingDS) ... ok\n",
      "test_validate (__main__.TestbankingDS) ... C:\\Users\\sophiechen\\AppData\\Local\\Temp\\ipykernel_648\\2399294718.py:31: ResourceWarning: unclosed file <_io.TextIOWrapper name='Tom' mode='r' encoding='cp950'>\n",
      "  self.assertEqual(bankingDS.validate('Tom', 10003), True)\n",
      "ResourceWarning: Enable tracemalloc to get the object allocation traceback\n",
      "C:\\Users\\sophiechen\\AppData\\Local\\Temp\\ipykernel_648\\2399294718.py:32: ResourceWarning: unclosed file <_io.TextIOWrapper name='Jack' mode='r' encoding='cp950'>\n",
      "  self.assertEqual(bankingDS.validate('Jack', 10004), True)\n",
      "ResourceWarning: Enable tracemalloc to get the object allocation traceback\n",
      "ok\n",
      "test_newUser (__main__.test_User) ... ok\n",
      "test_user (__main__.test_User) ... ok\n",
      "test_addAccount (__main__.test_bankingDS) ... ok\n",
      "test_validate (__main__.test_bankingDS) ... ok\n",
      "test_signup (__main__.test_bankingUI) ... ok\n",
      "test_withdraw (__main__.test_bankingUI) ... ok\n",
      "test_interest (__main__.test_calculation) ... "
     ]
    },
    {
     "name": "stdout",
     "output_type": "stream",
     "text": [
      "SetupClass\n",
      "Set up\n",
      "All fields required!\n",
      "All fields required!\n",
      "Account Already Exists!\n",
      "Account Already Exists!\n",
      "Tear Down\n",
      "Set up\n",
      "Please check your spell of name!\n",
      "Validation Pass!\n",
      "Validation Pass!\n",
      "Please check your spell of name!\n",
      "Tear Down\n",
      "TearDownClass\n",
      "SetupClass\n",
      "Set up\n",
      "All fields required!\n",
      "All fields required!\n",
      "Account Already Exists!\n",
      "Account Already Exists!\n",
      "Tear Down\n",
      "Set up\n",
      "Please check your spell of name!\n",
      "Validation Pass!\n",
      "Validation Pass!\n",
      "Please check your spell of name!\n",
      "Tear Down\n",
      "TearDownClass\n",
      "SetupClass\n",
      "Set up\n",
      "Tear Down\n",
      "Set up\n",
      "Tear Down\n",
      "TearDownClass\n"
     ]
    },
    {
     "name": "stderr",
     "output_type": "stream",
     "text": [
      "ok\n",
      "test_service (__main__.test_calculation) ... ok\n",
      "\n",
      "----------------------------------------------------------------------\n",
      "Ran 10 tests in 0.913s\n",
      "\n",
      "OK\n"
     ]
    },
    {
     "data": {
      "text/plain": [
       "<unittest.main.TestProgram at 0x1e3e9bb9fd0>"
      ]
     },
     "execution_count": 8,
     "metadata": {},
     "output_type": "execute_result"
    }
   ],
   "source": [
    "import unittest  # Jupyter notebook\n",
    "\n",
    "\n",
    "from BankAccountSystem.Interface import bankingDS as ds\n",
    "from BankAccountSystem.Interface import bankingUI\n",
    "\n",
    "\n",
    "\n",
    "class test_bankingUI(unittest.TestCase):  # test class\n",
    "    def setUp(self):\n",
    "        print('Set up')\n",
    "\n",
    "    def tearDown(self):\n",
    "        print('Tear Down')\n",
    "\n",
    "    @classmethod\n",
    "    def setUpClass(cls):\n",
    "        print('SetupClass')\n",
    "\n",
    "    @classmethod\n",
    "    def tearDownClass(cls):\n",
    "        print('TearDownClass')\n",
    "\n",
    "    def test_signup(self):\n",
    "        self.assertEqual(bankingUI.signup(), None)\n",
    "        self.assertEqual(bankingUI.signup(),  None)\n",
    "        self.assertEqual(bankingUI.signup(), None)\n",
    "        self.assertEqual(bankingUI.signup(), None)\n",
    "\n",
    "    def test_withdraw(self):\n",
    "        self.assertEqual(bankingUI.withdraw(),  None)\n",
    "        self.assertEqual(bankingUI.withdraw(), None )\n",
    "        self.assertEqual(bankingUI.withdraw(),  None)\n",
    "        self.assertEqual(bankingUI.withdraw(),  None)\n",
    "\n",
    "\n",
    "\n",
    "unittest.main(argv=[''], verbosity=2, exit=False)\n",
    "\n",
    "\n",
    "#%%\n"
   ]
  },
  {
   "cell_type": "code",
   "execution_count": 9,
   "id": "34c06733",
   "metadata": {},
   "outputs": [
    {
     "name": "stderr",
     "output_type": "stream",
     "text": [
      "test_addAccount (__main__.TestbankingDS) ... ok\n",
      "test_validate (__main__.TestbankingDS) ... C:\\Users\\sophiechen\\AppData\\Local\\Temp\\ipykernel_648\\2399294718.py:31: ResourceWarning: unclosed file <_io.TextIOWrapper name='Tom' mode='r' encoding='cp950'>\n",
      "  self.assertEqual(bankingDS.validate('Tom', 10003), True)\n",
      "ResourceWarning: Enable tracemalloc to get the object allocation traceback\n",
      "C:\\Users\\sophiechen\\AppData\\Local\\Temp\\ipykernel_648\\2399294718.py:32: ResourceWarning: unclosed file <_io.TextIOWrapper name='Jack' mode='r' encoding='cp950'>\n",
      "  self.assertEqual(bankingDS.validate('Jack', 10004), True)\n",
      "ResourceWarning: Enable tracemalloc to get the object allocation traceback\n",
      "ok\n",
      "test_newUser (__main__.test_User) ... ok\n",
      "test_user (__main__.test_User) ... ok\n",
      "test_addAccount (__main__.test_bankingDS) ... ok\n",
      "test_validate (__main__.test_bankingDS) ... ok\n",
      "test_signup (__main__.test_bankingUI) ... ok\n",
      "test_withdraw (__main__.test_bankingUI) ... ok\n",
      "test_interest (__main__.test_calculation) ... "
     ]
    },
    {
     "name": "stdout",
     "output_type": "stream",
     "text": [
      "SetupClass\n",
      "Set up\n",
      "All fields required!\n",
      "All fields required!\n",
      "Account Already Exists!\n",
      "Account Already Exists!\n",
      "Tear Down\n",
      "Set up\n",
      "Please check your spell of name!\n",
      "Validation Pass!\n",
      "Validation Pass!\n",
      "Please check your spell of name!\n",
      "Tear Down\n",
      "TearDownClass\n",
      "SetupClass\n",
      "Set up\n",
      "All fields required!\n",
      "All fields required!\n",
      "Account Already Exists!\n",
      "Account Already Exists!\n",
      "Tear Down\n",
      "Set up\n",
      "Please check your spell of name!\n",
      "Validation Pass!\n",
      "Validation Pass!\n",
      "Please check your spell of name!\n",
      "Tear Down\n",
      "TearDownClass\n",
      "SetupClass\n",
      "Set up\n",
      "Tear Down\n",
      "Set up\n",
      "Tear Down\n",
      "TearDownClass\n"
     ]
    },
    {
     "name": "stderr",
     "output_type": "stream",
     "text": [
      "ok\n",
      "test_service (__main__.test_calculation) ... ok\n",
      "\n",
      "----------------------------------------------------------------------\n",
      "Ran 10 tests in 0.947s\n",
      "\n",
      "OK\n",
      "test_addAccount (__main__.TestbankingDS) ... ok\n",
      "test_validate (__main__.TestbankingDS) ... C:\\Users\\sophiechen\\AppData\\Local\\Temp\\ipykernel_648\\2399294718.py:31: ResourceWarning: unclosed file <_io.TextIOWrapper name='Tom' mode='r' encoding='cp950'>\n",
      "  self.assertEqual(bankingDS.validate('Tom', 10003), True)\n",
      "ResourceWarning: Enable tracemalloc to get the object allocation traceback\n",
      "C:\\Users\\sophiechen\\AppData\\Local\\Temp\\ipykernel_648\\2399294718.py:32: ResourceWarning: unclosed file <_io.TextIOWrapper name='Jack' mode='r' encoding='cp950'>\n",
      "  self.assertEqual(bankingDS.validate('Jack', 10004), True)\n",
      "ResourceWarning: Enable tracemalloc to get the object allocation traceback\n",
      "ok\n",
      "test_newUser (__main__.test_User) ... ok\n",
      "test_user (__main__.test_User) ... ok\n",
      "test_addAccount (__main__.test_bankingDS) ... ok\n",
      "test_validate (__main__.test_bankingDS) ... ok\n",
      "test_signup (__main__.test_bankingUI) ... ok\n",
      "test_withdraw (__main__.test_bankingUI) ... ok\n",
      "test_interest (__main__.test_calculation) ... "
     ]
    },
    {
     "name": "stdout",
     "output_type": "stream",
     "text": [
      "SetupClass\n",
      "Set up\n",
      "All fields required!\n",
      "All fields required!\n",
      "Account Already Exists!\n",
      "Account Already Exists!\n",
      "Tear Down\n",
      "Set up\n",
      "Please check your spell of name!\n",
      "Validation Pass!\n",
      "Validation Pass!\n",
      "Please check your spell of name!\n",
      "Tear Down\n",
      "TearDownClass\n",
      "SetupClass\n",
      "Set up\n",
      "All fields required!\n",
      "All fields required!\n",
      "Account Already Exists!\n",
      "Account Already Exists!\n",
      "Tear Down\n",
      "Set up\n",
      "Please check your spell of name!\n",
      "Validation Pass!\n",
      "Validation Pass!\n",
      "Please check your spell of name!\n",
      "Tear Down\n",
      "TearDownClass\n",
      "SetupClass\n",
      "Set up\n",
      "Tear Down\n",
      "Set up\n",
      "Tear Down\n",
      "TearDownClass\n"
     ]
    },
    {
     "name": "stderr",
     "output_type": "stream",
     "text": [
      "ok\n",
      "test_service (__main__.test_calculation) ... ok\n",
      "\n",
      "----------------------------------------------------------------------\n",
      "Ran 10 tests in 1.061s\n",
      "\n",
      "OK\n",
      "test_addAccount (__main__.TestbankingDS) ... ok\n",
      "test_validate (__main__.TestbankingDS) ... C:\\Users\\sophiechen\\AppData\\Local\\Temp\\ipykernel_648\\2399294718.py:31: ResourceWarning: unclosed file <_io.TextIOWrapper name='Tom' mode='r' encoding='cp950'>\n",
      "  self.assertEqual(bankingDS.validate('Tom', 10003), True)\n",
      "ResourceWarning: Enable tracemalloc to get the object allocation traceback\n",
      "C:\\Users\\sophiechen\\AppData\\Local\\Temp\\ipykernel_648\\2399294718.py:32: ResourceWarning: unclosed file <_io.TextIOWrapper name='Jack' mode='r' encoding='cp950'>\n",
      "  self.assertEqual(bankingDS.validate('Jack', 10004), True)\n",
      "ResourceWarning: Enable tracemalloc to get the object allocation traceback\n",
      "ok\n",
      "test_newUser (__main__.test_User) ... ok\n",
      "test_user (__main__.test_User) ... ok\n",
      "test_addAccount (__main__.test_bankingDS) ... ok\n",
      "test_validate (__main__.test_bankingDS) ... ok\n",
      "test_signup (__main__.test_bankingUI) ... ok\n",
      "test_withdraw (__main__.test_bankingUI) ... ok\n",
      "test_interest (__main__.test_calculation) ... "
     ]
    },
    {
     "name": "stdout",
     "output_type": "stream",
     "text": [
      "SetupClass\n",
      "Set up\n",
      "All fields required!\n",
      "All fields required!\n",
      "Account Already Exists!\n",
      "Account Already Exists!\n",
      "Tear Down\n",
      "Set up\n",
      "Please check your spell of name!\n",
      "Validation Pass!\n",
      "Validation Pass!\n",
      "Please check your spell of name!\n",
      "Tear Down\n",
      "TearDownClass\n",
      "SetupClass\n",
      "Set up\n",
      "All fields required!\n",
      "All fields required!\n",
      "Account Already Exists!\n",
      "Account Already Exists!\n",
      "Tear Down\n",
      "Set up\n",
      "Please check your spell of name!\n",
      "Validation Pass!\n",
      "Validation Pass!\n",
      "Please check your spell of name!\n",
      "Tear Down\n",
      "TearDownClass\n",
      "SetupClass\n",
      "Set up\n",
      "Tear Down\n",
      "Set up\n",
      "Tear Down\n",
      "TearDownClass\n"
     ]
    },
    {
     "name": "stderr",
     "output_type": "stream",
     "text": [
      "ok\n",
      "test_service (__main__.test_calculation) ... ok\n",
      "\n",
      "----------------------------------------------------------------------\n",
      "Ran 10 tests in 0.970s\n",
      "\n",
      "OK\n",
      "test_addAccount (__main__.TestbankingDS) ... ok\n",
      "test_validate (__main__.TestbankingDS) ... C:\\Users\\sophiechen\\AppData\\Local\\Temp\\ipykernel_648\\2399294718.py:31: ResourceWarning: unclosed file <_io.TextIOWrapper name='Tom' mode='r' encoding='cp950'>\n",
      "  self.assertEqual(bankingDS.validate('Tom', 10003), True)\n",
      "ResourceWarning: Enable tracemalloc to get the object allocation traceback\n",
      "C:\\Users\\sophiechen\\AppData\\Local\\Temp\\ipykernel_648\\2399294718.py:32: ResourceWarning: unclosed file <_io.TextIOWrapper name='Jack' mode='r' encoding='cp950'>\n",
      "  self.assertEqual(bankingDS.validate('Jack', 10004), True)\n",
      "ResourceWarning: Enable tracemalloc to get the object allocation traceback\n",
      "ok\n",
      "test_newUser (__main__.test_User) ... ok\n",
      "test_user (__main__.test_User) ... ok\n",
      "test_addAccount (__main__.test_bankingDS) ... ok\n",
      "test_validate (__main__.test_bankingDS) ... ok\n",
      "test_signup (__main__.test_bankingUI) ... ok\n",
      "test_withdraw (__main__.test_bankingUI) ... ok\n",
      "test_interest (__main__.test_calculation) ... "
     ]
    },
    {
     "name": "stdout",
     "output_type": "stream",
     "text": [
      "SetupClass\n",
      "Set up\n",
      "All fields required!\n",
      "All fields required!\n",
      "Account Already Exists!\n",
      "Account Already Exists!\n",
      "Tear Down\n",
      "Set up\n",
      "Please check your spell of name!\n",
      "Validation Pass!\n",
      "Validation Pass!\n",
      "Please check your spell of name!\n",
      "Tear Down\n",
      "TearDownClass\n",
      "SetupClass\n",
      "Set up\n",
      "All fields required!\n",
      "All fields required!\n",
      "Account Already Exists!\n",
      "Account Already Exists!\n",
      "Tear Down\n",
      "Set up\n",
      "Please check your spell of name!\n",
      "Validation Pass!\n",
      "Validation Pass!\n",
      "Please check your spell of name!\n",
      "Tear Down\n",
      "TearDownClass\n",
      "SetupClass\n",
      "Set up\n",
      "Tear Down\n",
      "Set up\n",
      "Tear Down\n",
      "TearDownClass\n"
     ]
    },
    {
     "name": "stderr",
     "output_type": "stream",
     "text": [
      "ok\n",
      "test_service (__main__.test_calculation) ... ok\n",
      "\n",
      "----------------------------------------------------------------------\n",
      "Ran 10 tests in 0.885s\n",
      "\n",
      "OK\n"
     ]
    },
    {
     "ename": "TypeError",
     "evalue": "issubclass() arg 1 must be a class",
     "output_type": "error",
     "traceback": [
      "\u001b[1;31m---------------------------------------------------------------------------\u001b[0m",
      "\u001b[1;31mTypeError\u001b[0m                                 Traceback (most recent call last)",
      "Input \u001b[1;32mIn [9]\u001b[0m, in \u001b[0;36m<cell line: 1>\u001b[1;34m()\u001b[0m\n\u001b[1;32m----> 1\u001b[0m \u001b[38;5;28;01mimport\u001b[39;00m \u001b[38;5;21;01mtest_suite\u001b[39;00m\n",
      "File \u001b[1;32m~\\2022MDS\\Block 3\\Data-533\\project-step-3-chenziying\\test_suite.py:18\u001b[0m, in \u001b[0;36m<module>\u001b[1;34m\u001b[0m\n\u001b[0;32m     15\u001b[0m     runner \u001b[38;5;241m=\u001b[39m unittest\u001b[38;5;241m.\u001b[39mTextTestRunner()\n\u001b[0;32m     16\u001b[0m     \u001b[38;5;28mprint\u001b[39m(runner\u001b[38;5;241m.\u001b[39mrun(suite))\n\u001b[1;32m---> 18\u001b[0m \u001b[43mmy_suite\u001b[49m\u001b[43m(\u001b[49m\u001b[43m)\u001b[49m\n",
      "File \u001b[1;32m~\\2022MDS\\Block 3\\Data-533\\project-step-3-chenziying\\test_suite.py:12\u001b[0m, in \u001b[0;36mmy_suite\u001b[1;34m()\u001b[0m\n\u001b[0;32m     10\u001b[0m result \u001b[38;5;241m=\u001b[39m unittest\u001b[38;5;241m.\u001b[39mTestResult()\n\u001b[0;32m     11\u001b[0m \u001b[38;5;66;03m#suite.addTest(unittest.makeSuite(test_User))\u001b[39;00m\n\u001b[1;32m---> 12\u001b[0m suite\u001b[38;5;241m.\u001b[39maddTest(\u001b[43munittest\u001b[49m\u001b[38;5;241;43m.\u001b[39;49m\u001b[43mmakeSuite\u001b[49m\u001b[43m(\u001b[49m\u001b[43mtest_calculation\u001b[49m\u001b[43m)\u001b[49m)\n\u001b[0;32m     13\u001b[0m suite\u001b[38;5;241m.\u001b[39maddTest(unittest\u001b[38;5;241m.\u001b[39mmakeSuite(test_bankingUI))\n\u001b[0;32m     14\u001b[0m suite\u001b[38;5;241m.\u001b[39maddTest(unittest\u001b[38;5;241m.\u001b[39mmakeSuite(test_bankingDS))\n",
      "File \u001b[1;32m~\\anaconda3\\lib\\unittest\\loader.py:511\u001b[0m, in \u001b[0;36mmakeSuite\u001b[1;34m(testCaseClass, prefix, sortUsing, suiteClass)\u001b[0m\n\u001b[0;32m    509\u001b[0m \u001b[38;5;28;01mdef\u001b[39;00m \u001b[38;5;21mmakeSuite\u001b[39m(testCaseClass, prefix\u001b[38;5;241m=\u001b[39m\u001b[38;5;124m'\u001b[39m\u001b[38;5;124mtest\u001b[39m\u001b[38;5;124m'\u001b[39m, sortUsing\u001b[38;5;241m=\u001b[39mutil\u001b[38;5;241m.\u001b[39mthree_way_cmp,\n\u001b[0;32m    510\u001b[0m               suiteClass\u001b[38;5;241m=\u001b[39msuite\u001b[38;5;241m.\u001b[39mTestSuite):\n\u001b[1;32m--> 511\u001b[0m     \u001b[38;5;28;01mreturn\u001b[39;00m \u001b[43m_makeLoader\u001b[49m\u001b[43m(\u001b[49m\u001b[43mprefix\u001b[49m\u001b[43m,\u001b[49m\u001b[43m \u001b[49m\u001b[43msortUsing\u001b[49m\u001b[43m,\u001b[49m\u001b[43m \u001b[49m\u001b[43msuiteClass\u001b[49m\u001b[43m)\u001b[49m\u001b[38;5;241;43m.\u001b[39;49m\u001b[43mloadTestsFromTestCase\u001b[49m\u001b[43m(\u001b[49m\n\u001b[0;32m    512\u001b[0m \u001b[43m        \u001b[49m\u001b[43mtestCaseClass\u001b[49m\u001b[43m)\u001b[49m\n",
      "File \u001b[1;32m~\\anaconda3\\lib\\unittest\\loader.py:86\u001b[0m, in \u001b[0;36mTestLoader.loadTestsFromTestCase\u001b[1;34m(self, testCaseClass)\u001b[0m\n\u001b[0;32m     84\u001b[0m \u001b[38;5;28;01mdef\u001b[39;00m \u001b[38;5;21mloadTestsFromTestCase\u001b[39m(\u001b[38;5;28mself\u001b[39m, testCaseClass):\n\u001b[0;32m     85\u001b[0m     \u001b[38;5;124;03m\"\"\"Return a suite of all test cases contained in testCaseClass\"\"\"\u001b[39;00m\n\u001b[1;32m---> 86\u001b[0m     \u001b[38;5;28;01mif\u001b[39;00m \u001b[38;5;28;43missubclass\u001b[39;49m\u001b[43m(\u001b[49m\u001b[43mtestCaseClass\u001b[49m\u001b[43m,\u001b[49m\u001b[43m \u001b[49m\u001b[43msuite\u001b[49m\u001b[38;5;241;43m.\u001b[39;49m\u001b[43mTestSuite\u001b[49m\u001b[43m)\u001b[49m:\n\u001b[0;32m     87\u001b[0m         \u001b[38;5;28;01mraise\u001b[39;00m \u001b[38;5;167;01mTypeError\u001b[39;00m(\u001b[38;5;124m\"\u001b[39m\u001b[38;5;124mTest cases should not be derived from \u001b[39m\u001b[38;5;124m\"\u001b[39m\n\u001b[0;32m     88\u001b[0m                         \u001b[38;5;124m\"\u001b[39m\u001b[38;5;124mTestSuite. Maybe you meant to derive from \u001b[39m\u001b[38;5;124m\"\u001b[39m\n\u001b[0;32m     89\u001b[0m                         \u001b[38;5;124m\"\u001b[39m\u001b[38;5;124mTestCase?\u001b[39m\u001b[38;5;124m\"\u001b[39m)\n\u001b[0;32m     90\u001b[0m     testCaseNames \u001b[38;5;241m=\u001b[39m \u001b[38;5;28mself\u001b[39m\u001b[38;5;241m.\u001b[39mgetTestCaseNames(testCaseClass)\n",
      "\u001b[1;31mTypeError\u001b[0m: issubclass() arg 1 must be a class"
     ]
    }
   ],
   "source": [
    "import test_suite"
   ]
  },
  {
   "cell_type": "code",
   "execution_count": null,
   "id": "665d5df0",
   "metadata": {},
   "outputs": [],
   "source": []
  }
 ],
 "metadata": {
  "kernelspec": {
   "display_name": "Python 3 (ipykernel)",
   "language": "python",
   "name": "python3"
  },
  "language_info": {
   "codemirror_mode": {
    "name": "ipython",
    "version": 3
   },
   "file_extension": ".py",
   "mimetype": "text/x-python",
   "name": "python",
   "nbconvert_exporter": "python",
   "pygments_lexer": "ipython3",
   "version": "3.9.12"
  }
 },
 "nbformat": 4,
 "nbformat_minor": 5
}
